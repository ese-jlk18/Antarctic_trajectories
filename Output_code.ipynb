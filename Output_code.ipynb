{
 "cells": [
  {
   "cell_type": "code",
   "execution_count": null,
   "metadata": {},
   "outputs": [],
   "source": [
    "\n",
    "\n",
    "%matplotlib inline\n",
    "import numpy as np\n",
    "import matplotlib.pyplot as plt\n",
    "import xarray as xr\n",
    "from datetime import timedelta\n",
    "import parcels as pc\n",
    "\n",
    "\n",
    "from parcels.fieldset import *  # noqa\n",
    "from parcels.particle import *  # noqa\n",
    "from parcels.particleset import *  # noqa\n",
    "from parcels.field import *  # noqa\n",
    "from parcels.kernel import *  # noqa\n",
    "import parcels.rng as ParcelsRandom  # noqa\n",
    "from parcels.particlefile import *  # noqa\n",
    "from parcels.kernels import *  # noqa\n",
    "from parcels.scripts import *  # noqa\n",
    "from parcels.gridset import *  # noqa\n",
    "from parcels.grid import *  # noqa\n",
    "from parcels.tools import *  # noqa"
   ]
  },
  {
   "cell_type": "code",
   "execution_count": null,
   "metadata": {},
   "outputs": [],
   "source": [
    "#Deffining the File\n",
    "filenames = {'U' :\"jacob.nc\",\n",
    "            'V' : \"jacob.nc\"}\n",
    "\n",
    "#Defining the Variables \n",
    "variables = {'U': 'u',\n",
    "             'V': 'v'}\n",
    "\n",
    "dimensions = {'time':'time',\n",
    "              'lat': 'y',\n",
    "              'lon': 'x'}\n",
    "\n",
    "#Importing the data \n",
    "fieldset = FieldSet.from_netcdf(\"jacob.nc\", variables, dimensions, mesh='flat')\n"
   ]
  },
  {
   "cell_type": "code",
   "execution_count": null,
   "metadata": {},
   "outputs": [],
   "source": [
    "#defining particle set locations (repeated launch every day)\n",
    "\n",
    "psetAPP = ParticleSet.from_line(fieldset=fieldset, size=4, pclass=JITParticle, start=(-2.1e6,0.6e6),finish=(-2e6,-0.2e6), repeatdt=timedelta(days=1))\n",
    "psetAmund1 = ParticleSet.from_line(fieldset=fieldset, size=3, pclass=JITParticle, start=(-1.7e6,-0.4e6),finish=(-1.7e6,-1.1e6), repeatdt=timedelta(days=1))\n",
    "psetAmund2 = ParticleSet.from_line(fieldset=fieldset, size=5, pclass=JITParticle, start=(-1.5,-1.2e6),finish=(-0.8e6,-1.3e6), repeatdt=timedelta(days=1))\n",
    "psetRoss = ParticleSet.from_line(fieldset=fieldset, size=5, pclass=JITParticle, start=(-0.1,-1.3e6),finish=(0.2e6,-1.3e6), repeatdt=timedelta(days=1))\n",
    "psetAAP = ParticleSet.from_line(fieldset=fieldset, size=1, pclass=JITParticle, start=(1.2e6,-2.2e6),finish=(1.2e6,-2.21e6), repeatdt=timedelta(days=1))\n",
    "psetWed = ParticleSet.from_line(fieldset=fieldset, size=7, pclass=JITParticle, start=(-1.2,1e6),finish=(0.9e6,1e6), repeatdt=timedelta(days=1))\n",
    "psetFim = ParticleSet.from_line(fieldset=fieldset, size=3, pclass=JITParticle, start=(-0.1e6,2.15e6),finish=(0.5e6,2.14e6), repeatdt=timedelta(days=1))\n",
    "psetWilk = ParticleSet.from_line(fieldset=fieldset, size=2, pclass=JITParticle, start=(1.9e6,-2e6),finish=(2e6,-1.9e6), repeatdt=timedelta(days=1))\n",
    "psetEast = ParticleSet.from_line(fieldset=fieldset, size=3, pclass=JITParticle, start=(2.5e6,0),finish=(2.5e6,-1e6), repeatdt=timedelta(days=1))\n"
   ]
  },
  {
   "cell_type": "code",
   "execution_count": null,
   "metadata": {},
   "outputs": [],
   "source": [
    "#creating lists so can execute on all data sets \n",
    "psetlist = [  psetAmund2, psetRoss, psetAAP, psetWed, psetFim, psetWilk, psetEast]\n",
    "outputlist = [ 'Amundson2.nc','Ross.nc', 'AAPeninsula.nc','Weddell.nc','Fimbul.nc','Wilkes.nc','East.nc']"
   ]
  },
  {
   "cell_type": "code",
   "execution_count": null,
   "metadata": {},
   "outputs": [],
   "source": [
    "#execution of code\n",
    "\n",
    "for i in range(len(psetlist)):\n",
    "    pset = psetlist[i]\n",
    "    output = pset.ParticleFile(name= outputlist[i], convert_at_end=False, outputdt=timedelta(hours= 24))#the output file will be updated every \"24hrs\" at the same time as the code is running \n",
    "    \n",
    "    pset.execute(AdvectionRK4,#Using a fourth order Runge Kutter method\n",
    "             runtime=timedelta(days=2191),#run for the full length of the data set \n",
    "             dt=timedelta(hours=1),#it will timestep every hour\n",
    "              moviedt=timedelta(days=1),    #outputs as an animatable format (this results in an output graph every day as the code is running), Even when removed code takes around 8hrs          \n",
    "             output_file=output,\n",
    "             #recovery #have added a catch to delete particles when out of bounds but onedrive glitched and I'm left with an older version of my file \n",
    "             )"
   ]
  }
 ],
 "metadata": {
  "kernelspec": {
   "display_name": "Python 3",
   "language": "python",
   "name": "python3"
  },
  "language_info": {
   "codemirror_mode": {
    "name": "ipython",
    "version": 3
   },
   "file_extension": ".py",
   "mimetype": "text/x-python",
   "name": "python",
   "nbconvert_exporter": "python",
   "pygments_lexer": "ipython3",
   "version": "3.8.5"
  }
 },
 "nbformat": 4,
 "nbformat_minor": 4
}
